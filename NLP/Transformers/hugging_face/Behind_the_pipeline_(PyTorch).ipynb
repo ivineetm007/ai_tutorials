{
  "cells": [
    {
      "cell_type": "markdown",
      "metadata": {
        "id": "PX08h1br8J2Q"
      },
      "source": [
        "# Behind the pipeline (PyTorch)"
      ]
    },
    {
      "cell_type": "markdown",
      "metadata": {
        "id": "3H8nGRlP8J2V"
      },
      "source": [
        "Install the Transformers, Datasets, and Evaluate libraries to run this notebook."
      ]
    },
    {
      "cell_type": "code",
      "execution_count": 1,
      "metadata": {
        "id": "MJFgcH3C8J2V",
        "colab": {
          "base_uri": "https://localhost:8080/"
        },
        "outputId": "b9d7b5c6-318c-4720-fb25-6c451081ce84"
      },
      "outputs": [
        {
          "output_type": "stream",
          "name": "stdout",
          "text": [
            "Collecting datasets\n",
            "  Downloading datasets-2.13.1-py3-none-any.whl (486 kB)\n",
            "\u001b[?25l     \u001b[90m━━━━━━━━━━━━━━━━━━━━━━━━━━━━━━━━━━━━━━━━\u001b[0m \u001b[32m0.0/486.2 kB\u001b[0m \u001b[31m?\u001b[0m eta \u001b[36m-:--:--\u001b[0m\r\u001b[2K     \u001b[90m━━━━━━━━━━━━━━━━━━━━━━━━━━━━━━━━━━━━━━\u001b[0m \u001b[32m486.2/486.2 kB\u001b[0m \u001b[31m15.4 MB/s\u001b[0m eta \u001b[36m0:00:00\u001b[0m\n",
            "\u001b[?25hCollecting evaluate\n",
            "  Downloading evaluate-0.4.0-py3-none-any.whl (81 kB)\n",
            "\u001b[2K     \u001b[90m━━━━━━━━━━━━━━━━━━━━━━━━━━━━━━━━━━━━━━━━\u001b[0m \u001b[32m81.4/81.4 kB\u001b[0m \u001b[31m11.1 MB/s\u001b[0m eta \u001b[36m0:00:00\u001b[0m\n",
            "\u001b[?25hCollecting transformers[sentencepiece]\n",
            "  Downloading transformers-4.30.2-py3-none-any.whl (7.2 MB)\n",
            "\u001b[2K     \u001b[90m━━━━━━━━━━━━━━━━━━━━━━━━━━━━━━━━━━━━━━━━\u001b[0m \u001b[32m7.2/7.2 MB\u001b[0m \u001b[31m80.1 MB/s\u001b[0m eta \u001b[36m0:00:00\u001b[0m\n",
            "\u001b[?25hRequirement already satisfied: numpy>=1.17 in /usr/local/lib/python3.10/dist-packages (from datasets) (1.22.4)\n",
            "Requirement already satisfied: pyarrow>=8.0.0 in /usr/local/lib/python3.10/dist-packages (from datasets) (9.0.0)\n",
            "Collecting dill<0.3.7,>=0.3.0 (from datasets)\n",
            "  Downloading dill-0.3.6-py3-none-any.whl (110 kB)\n",
            "\u001b[2K     \u001b[90m━━━━━━━━━━━━━━━━━━━━━━━━━━━━━━━━━━━━━━\u001b[0m \u001b[32m110.5/110.5 kB\u001b[0m \u001b[31m13.9 MB/s\u001b[0m eta \u001b[36m0:00:00\u001b[0m\n",
            "\u001b[?25hRequirement already satisfied: pandas in /usr/local/lib/python3.10/dist-packages (from datasets) (1.5.3)\n",
            "Requirement already satisfied: requests>=2.19.0 in /usr/local/lib/python3.10/dist-packages (from datasets) (2.27.1)\n",
            "Requirement already satisfied: tqdm>=4.62.1 in /usr/local/lib/python3.10/dist-packages (from datasets) (4.65.0)\n",
            "Collecting xxhash (from datasets)\n",
            "  Downloading xxhash-3.2.0-cp310-cp310-manylinux_2_17_x86_64.manylinux2014_x86_64.whl (212 kB)\n",
            "\u001b[2K     \u001b[90m━━━━━━━━━━━━━━━━━━━━━━━━━━━━━━━━━━━━━━\u001b[0m \u001b[32m212.5/212.5 kB\u001b[0m \u001b[31m22.4 MB/s\u001b[0m eta \u001b[36m0:00:00\u001b[0m\n",
            "\u001b[?25hCollecting multiprocess (from datasets)\n",
            "  Downloading multiprocess-0.70.14-py310-none-any.whl (134 kB)\n",
            "\u001b[2K     \u001b[90m━━━━━━━━━━━━━━━━━━━━━━━━━━━━━━━━━━━━━━\u001b[0m \u001b[32m134.3/134.3 kB\u001b[0m \u001b[31m15.5 MB/s\u001b[0m eta \u001b[36m0:00:00\u001b[0m\n",
            "\u001b[?25hRequirement already satisfied: fsspec[http]>=2021.11.1 in /usr/local/lib/python3.10/dist-packages (from datasets) (2023.6.0)\n",
            "Requirement already satisfied: aiohttp in /usr/local/lib/python3.10/dist-packages (from datasets) (3.8.4)\n",
            "Collecting huggingface-hub<1.0.0,>=0.11.0 (from datasets)\n",
            "  Downloading huggingface_hub-0.15.1-py3-none-any.whl (236 kB)\n",
            "\u001b[2K     \u001b[90m━━━━━━━━━━━━━━━━━━━━━━━━━━━━━━━━━━━━━━\u001b[0m \u001b[32m236.8/236.8 kB\u001b[0m \u001b[31m23.5 MB/s\u001b[0m eta \u001b[36m0:00:00\u001b[0m\n",
            "\u001b[?25hRequirement already satisfied: packaging in /usr/local/lib/python3.10/dist-packages (from datasets) (23.1)\n",
            "Requirement already satisfied: pyyaml>=5.1 in /usr/local/lib/python3.10/dist-packages (from datasets) (6.0)\n",
            "Collecting responses<0.19 (from evaluate)\n",
            "  Downloading responses-0.18.0-py3-none-any.whl (38 kB)\n",
            "Requirement already satisfied: filelock in /usr/local/lib/python3.10/dist-packages (from transformers[sentencepiece]) (3.12.2)\n",
            "Requirement already satisfied: regex!=2019.12.17 in /usr/local/lib/python3.10/dist-packages (from transformers[sentencepiece]) (2022.10.31)\n",
            "Collecting tokenizers!=0.11.3,<0.14,>=0.11.1 (from transformers[sentencepiece])\n",
            "  Downloading tokenizers-0.13.3-cp310-cp310-manylinux_2_17_x86_64.manylinux2014_x86_64.whl (7.8 MB)\n",
            "\u001b[2K     \u001b[90m━━━━━━━━━━━━━━━━━━━━━━━━━━━━━━━━━━━━━━━━\u001b[0m \u001b[32m7.8/7.8 MB\u001b[0m \u001b[31m61.8 MB/s\u001b[0m eta \u001b[36m0:00:00\u001b[0m\n",
            "\u001b[?25hCollecting safetensors>=0.3.1 (from transformers[sentencepiece])\n",
            "  Downloading safetensors-0.3.1-cp310-cp310-manylinux_2_17_x86_64.manylinux2014_x86_64.whl (1.3 MB)\n",
            "\u001b[2K     \u001b[90m━━━━━━━━━━━━━━━━━━━━━━━━━━━━━━━━━━━━━━━━\u001b[0m \u001b[32m1.3/1.3 MB\u001b[0m \u001b[31m73.1 MB/s\u001b[0m eta \u001b[36m0:00:00\u001b[0m\n",
            "\u001b[?25hCollecting sentencepiece!=0.1.92,>=0.1.91 (from transformers[sentencepiece])\n",
            "  Downloading sentencepiece-0.1.99-cp310-cp310-manylinux_2_17_x86_64.manylinux2014_x86_64.whl (1.3 MB)\n",
            "\u001b[2K     \u001b[90m━━━━━━━━━━━━━━━━━━━━━━━━━━━━━━━━━━━━━━━━\u001b[0m \u001b[32m1.3/1.3 MB\u001b[0m \u001b[31m61.7 MB/s\u001b[0m eta \u001b[36m0:00:00\u001b[0m\n",
            "\u001b[?25hRequirement already satisfied: protobuf<=3.20.3 in /usr/local/lib/python3.10/dist-packages (from transformers[sentencepiece]) (3.20.3)\n",
            "Requirement already satisfied: attrs>=17.3.0 in /usr/local/lib/python3.10/dist-packages (from aiohttp->datasets) (23.1.0)\n",
            "Requirement already satisfied: charset-normalizer<4.0,>=2.0 in /usr/local/lib/python3.10/dist-packages (from aiohttp->datasets) (2.0.12)\n",
            "Requirement already satisfied: multidict<7.0,>=4.5 in /usr/local/lib/python3.10/dist-packages (from aiohttp->datasets) (6.0.4)\n",
            "Requirement already satisfied: async-timeout<5.0,>=4.0.0a3 in /usr/local/lib/python3.10/dist-packages (from aiohttp->datasets) (4.0.2)\n",
            "Requirement already satisfied: yarl<2.0,>=1.0 in /usr/local/lib/python3.10/dist-packages (from aiohttp->datasets) (1.9.2)\n",
            "Requirement already satisfied: frozenlist>=1.1.1 in /usr/local/lib/python3.10/dist-packages (from aiohttp->datasets) (1.3.3)\n",
            "Requirement already satisfied: aiosignal>=1.1.2 in /usr/local/lib/python3.10/dist-packages (from aiohttp->datasets) (1.3.1)\n",
            "Requirement already satisfied: typing-extensions>=3.7.4.3 in /usr/local/lib/python3.10/dist-packages (from huggingface-hub<1.0.0,>=0.11.0->datasets) (4.6.3)\n",
            "Requirement already satisfied: urllib3<1.27,>=1.21.1 in /usr/local/lib/python3.10/dist-packages (from requests>=2.19.0->datasets) (1.26.16)\n",
            "Requirement already satisfied: certifi>=2017.4.17 in /usr/local/lib/python3.10/dist-packages (from requests>=2.19.0->datasets) (2023.5.7)\n",
            "Requirement already satisfied: idna<4,>=2.5 in /usr/local/lib/python3.10/dist-packages (from requests>=2.19.0->datasets) (3.4)\n",
            "Requirement already satisfied: python-dateutil>=2.8.1 in /usr/local/lib/python3.10/dist-packages (from pandas->datasets) (2.8.2)\n",
            "Requirement already satisfied: pytz>=2020.1 in /usr/local/lib/python3.10/dist-packages (from pandas->datasets) (2022.7.1)\n",
            "Requirement already satisfied: six>=1.5 in /usr/local/lib/python3.10/dist-packages (from python-dateutil>=2.8.1->pandas->datasets) (1.16.0)\n",
            "Installing collected packages: tokenizers, sentencepiece, safetensors, xxhash, dill, responses, multiprocess, huggingface-hub, transformers, datasets, evaluate\n",
            "Successfully installed datasets-2.13.1 dill-0.3.6 evaluate-0.4.0 huggingface-hub-0.15.1 multiprocess-0.70.14 responses-0.18.0 safetensors-0.3.1 sentencepiece-0.1.99 tokenizers-0.13.3 transformers-4.30.2 xxhash-3.2.0\n"
          ]
        }
      ],
      "source": [
        "!pip install datasets evaluate transformers[sentencepiece]"
      ]
    },
    {
      "cell_type": "code",
      "execution_count": 2,
      "metadata": {
        "id": "Z4jmpTtx8J2X",
        "outputId": "e5db0fe3-172b-47b3-d2c9-7982a5f85fe6",
        "colab": {
          "base_uri": "https://localhost:8080/",
          "height": 276,
          "referenced_widgets": [
            "7800be93816b4aeba8d2d805a2c370c7",
            "69a72227e58c49d8aaa57166bda380b0",
            "e347850479b448d9b323dabbe8fb424b",
            "ff1ce895ad404a3b9e67179bdbcd6df8",
            "f2651568e6ce435ebbfa2067a124f72a",
            "6607f506a49441f2970bd5a9e2b95a20",
            "afb394e49e654c7f8130f4121194ea75",
            "5d07b5a5af834ee9b40e8e5d1403364a",
            "d9a4c758c06d4cd0ba7fd3468878e50a",
            "6d49ba6facd546c6891a146c4bace891",
            "11305a70221c47e7b350ab1493b21152",
            "a6daa954deb9484e9b78f9a29113d329",
            "7a3a20274d1f42b4831431150b4d3b44",
            "bb6edd2afc6d48498756a08bb653f620",
            "fcf219a466f049f19cf0fb6d05a3dabb",
            "b7a4cd86e12f4eefb0ed266681d55789",
            "712c0756920e4b57b6d22d0b87d42789",
            "0fa5a8274ef14a9fb2fb76dcd11febcb",
            "dd028c0a13ef408bb08878378d34078c",
            "0afbda844fce45c0acfbd907d9873efd",
            "4e267d89854e46c98e597d88bf75bb5e",
            "f961865dba8f4fad849324425e944577",
            "1a996edeb9584715866f383d9eeadabb",
            "f19b981d7a974b33b34c3e4b9815223f",
            "3be793d6a830457b8f6a2f36163b1f88",
            "bd3e8ffade674e58b4e3193a20c5aa6b",
            "05d5553e54b4466e851579aded08abe0",
            "3e2fcfaeb34e41f38532e4b195bc3f5c",
            "db8766cb95db45c0ad2945387f9d549a",
            "d90cbc7a39f34c0ca5ba4ba8c44d3507",
            "19f743638ec24d43893a1a9ff822cb02",
            "f6e3084d352e4a07be6da7cb23975bda",
            "33d0478944f045499e383d13aae528a8",
            "9f1484078dc04fd895b290b3c5629234",
            "00af5a575bec4ea7aa1265c566bed37f",
            "a2a6c8a8cdeb417393c0c28f2cf87015",
            "a35fc337b4ac434f9f9594c51a94c0a5",
            "d0312e82d6934c2196b014bccb07dd35",
            "8269fbf4541249a1b3e975f98248fe6e",
            "f80f95bb7b9840b38a50bc22c51b2c15",
            "0be9f0ae09504554be93bfbc0ca11033",
            "864b58ab62c841d084d57c93fb5867e2",
            "003d472eb1674d50b72b03893ae8ac68",
            "0877248cc7044149af0d15f185d7b8b1"
          ]
        }
      },
      "outputs": [
        {
          "output_type": "stream",
          "name": "stderr",
          "text": [
            "No model was supplied, defaulted to distilbert-base-uncased-finetuned-sst-2-english and revision af0f99b (https://huggingface.co/distilbert-base-uncased-finetuned-sst-2-english).\n",
            "Using a pipeline without specifying a model name and revision in production is not recommended.\n"
          ]
        },
        {
          "output_type": "display_data",
          "data": {
            "text/plain": [
              "Downloading (…)lve/main/config.json:   0%|          | 0.00/629 [00:00<?, ?B/s]"
            ],
            "application/vnd.jupyter.widget-view+json": {
              "version_major": 2,
              "version_minor": 0,
              "model_id": "7800be93816b4aeba8d2d805a2c370c7"
            }
          },
          "metadata": {}
        },
        {
          "output_type": "display_data",
          "data": {
            "text/plain": [
              "Downloading model.safetensors:   0%|          | 0.00/268M [00:00<?, ?B/s]"
            ],
            "application/vnd.jupyter.widget-view+json": {
              "version_major": 2,
              "version_minor": 0,
              "model_id": "a6daa954deb9484e9b78f9a29113d329"
            }
          },
          "metadata": {}
        },
        {
          "output_type": "display_data",
          "data": {
            "text/plain": [
              "Downloading (…)okenizer_config.json:   0%|          | 0.00/48.0 [00:00<?, ?B/s]"
            ],
            "application/vnd.jupyter.widget-view+json": {
              "version_major": 2,
              "version_minor": 0,
              "model_id": "1a996edeb9584715866f383d9eeadabb"
            }
          },
          "metadata": {}
        },
        {
          "output_type": "display_data",
          "data": {
            "text/plain": [
              "Downloading (…)solve/main/vocab.txt:   0%|          | 0.00/232k [00:00<?, ?B/s]"
            ],
            "application/vnd.jupyter.widget-view+json": {
              "version_major": 2,
              "version_minor": 0,
              "model_id": "9f1484078dc04fd895b290b3c5629234"
            }
          },
          "metadata": {}
        },
        {
          "output_type": "stream",
          "name": "stderr",
          "text": [
            "Xformers is not installed correctly. If you want to use memory_efficient_attention to accelerate training use the following command to install Xformers\n",
            "pip install xformers.\n"
          ]
        },
        {
          "output_type": "execute_result",
          "data": {
            "text/plain": [
              "[{'label': 'POSITIVE', 'score': 0.9598048329353333},\n",
              " {'label': 'NEGATIVE', 'score': 0.9994558691978455}]"
            ]
          },
          "metadata": {},
          "execution_count": 2
        }
      ],
      "source": [
        "from transformers import pipeline\n",
        "\n",
        "classifier = pipeline(\"sentiment-analysis\")\n",
        "classifier(\n",
        "    [\n",
        "        \"I've been waiting for a HuggingFace course my whole life.\",\n",
        "        \"I hate this so much!\",\n",
        "    ]\n",
        ")"
      ]
    },
    {
      "cell_type": "markdown",
      "source": [
        "![image.png](data:image/png;base64,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)"
      ],
      "metadata": {
        "id": "IcjRyk5M9UAo"
      }
    },
    {
      "cell_type": "markdown",
      "source": [
        "## Tokenizer\n",
        "It will be responsible for\n",
        "1. Splitting the input into words, subwords, or symbols (like punctuation) that are called tokens\n",
        "2. Mapping each token to an integer\n",
        "3. Adding additional inputs that may be useful to the model\n",
        "\n",
        "You can use Transformers without having to worry about which ML framework is used as a backend; it might be PyTorch or TensorFlow, or Flax for some models. However, Transformer models **only accept tensors** as input.\n"
      ],
      "metadata": {
        "id": "kWJ4Sjap9wwW"
      }
    },
    {
      "cell_type": "code",
      "execution_count": 3,
      "metadata": {
        "id": "ys6T4-3x8J2Y"
      },
      "outputs": [],
      "source": [
        "from transformers import AutoTokenizer\n",
        "\n",
        "checkpoint = \"distilbert-base-uncased-finetuned-sst-2-english\"\n",
        "tokenizer = AutoTokenizer.from_pretrained(checkpoint)"
      ]
    },
    {
      "cell_type": "code",
      "execution_count": 5,
      "metadata": {
        "id": "kvIbv_2Z8J2Z",
        "outputId": "4425e42b-cb69-40ba-c99c-828df446098b",
        "colab": {
          "base_uri": "https://localhost:8080/"
        }
      },
      "outputs": [
        {
          "output_type": "stream",
          "name": "stdout",
          "text": [
            "{'input_ids': tensor([[  101,  1045,  1005,  2310,  2042,  3403,  2005,  1037, 17662, 12172,\n",
            "          2607,  2026,  2878,  2166,  1012,   102],\n",
            "        [  101,  1045,  5223,  2023,  2061,  2172,   999,   102,     0,     0,\n",
            "             0,     0,     0,     0,     0,     0]]), 'attention_mask': tensor([[1, 1, 1, 1, 1, 1, 1, 1, 1, 1, 1, 1, 1, 1, 1, 1],\n",
            "        [1, 1, 1, 1, 1, 1, 1, 1, 0, 0, 0, 0, 0, 0, 0, 0]])}\n"
          ]
        }
      ],
      "source": [
        "raw_inputs = [\n",
        "    \"I've been waiting for a HuggingFace course my whole life.\",\n",
        "    \"I hate this so much!\",\n",
        "]\n",
        "# To specify the type of tensors we want to get back (PyTorch, TensorFlow, or plain NumPy), we use the return_tensors argument\n",
        "\n",
        "inputs = tokenizer(raw_inputs, padding=True, truncation=True, return_tensors=\"pt\")\n",
        "# Returns dictionary\n",
        "print(inputs)"
      ]
    },
    {
      "cell_type": "markdown",
      "source": [
        "## Model\n",
        "\n",
        "The base model outputs **hidden states**. While these hidden states can be useful on their own, they're usually inputs to another part of the model, known as the head."
      ],
      "metadata": {
        "id": "wOkI4rwM-9gX"
      }
    },
    {
      "cell_type": "code",
      "execution_count": 6,
      "metadata": {
        "id": "o5XAdhzS8J2Z",
        "colab": {
          "base_uri": "https://localhost:8080/"
        },
        "outputId": "a0e851bf-9d27-4302-8e85-0e3f60d43934"
      },
      "outputs": [
        {
          "output_type": "stream",
          "name": "stderr",
          "text": [
            "Some weights of the model checkpoint at distilbert-base-uncased-finetuned-sst-2-english were not used when initializing DistilBertModel: ['classifier.weight', 'pre_classifier.bias', 'classifier.bias', 'pre_classifier.weight']\n",
            "- This IS expected if you are initializing DistilBertModel from the checkpoint of a model trained on another task or with another architecture (e.g. initializing a BertForSequenceClassification model from a BertForPreTraining model).\n",
            "- This IS NOT expected if you are initializing DistilBertModel from the checkpoint of a model that you expect to be exactly identical (initializing a BertForSequenceClassification model from a BertForSequenceClassification model).\n"
          ]
        }
      ],
      "source": [
        "from transformers import AutoModel\n",
        "# This architecture contains only the base Transformer module: given some inputs\n",
        "# , it outputs what we’ll call hidden states, also known as features.\n",
        "checkpoint = \"distilbert-base-uncased-finetuned-sst-2-english\"\n",
        "model = AutoModel.from_pretrained(checkpoint)"
      ]
    },
    {
      "cell_type": "code",
      "execution_count": 8,
      "metadata": {
        "id": "L8SkKiSG8J2a",
        "outputId": "e7408e48-dc1d-47ba-d169-784038049088",
        "colab": {
          "base_uri": "https://localhost:8080/"
        }
      },
      "outputs": [
        {
          "output_type": "stream",
          "name": "stdout",
          "text": [
            "torch.Size([2, 16, 768])\n"
          ]
        }
      ],
      "source": [
        "outputs = model(**inputs)\n",
        "print(outputs.last_hidden_state.shape)# [Batch, Sequence, Hidden size]"
      ]
    },
    {
      "cell_type": "markdown",
      "source": [
        "![image.png](data:image/png;base64,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)"
      ],
      "metadata": {
        "id": "M6s_PH0A_xIZ"
      }
    },
    {
      "cell_type": "code",
      "execution_count": 9,
      "metadata": {
        "id": "piqfoKkw8J2b"
      },
      "outputs": [],
      "source": [
        "from transformers import AutoModelForSequenceClassification\n",
        "\n",
        "checkpoint = \"distilbert-base-uncased-finetuned-sst-2-english\"\n",
        "model = AutoModelForSequenceClassification.from_pretrained(checkpoint)\n",
        "outputs = model(**inputs)"
      ]
    },
    {
      "cell_type": "code",
      "execution_count": 10,
      "metadata": {
        "id": "0pBra24f8J2b",
        "outputId": "520ef037-8117-489e-c656-54bf3fe498aa",
        "colab": {
          "base_uri": "https://localhost:8080/"
        }
      },
      "outputs": [
        {
          "output_type": "stream",
          "name": "stdout",
          "text": [
            "torch.Size([2, 2])\n"
          ]
        }
      ],
      "source": [
        "print(outputs.logits.shape)"
      ]
    },
    {
      "cell_type": "code",
      "execution_count": 11,
      "metadata": {
        "id": "OJCgaTEc8J2c",
        "outputId": "1ca57f8e-5995-4951-db3b-9d5f9bf5b25b",
        "colab": {
          "base_uri": "https://localhost:8080/"
        }
      },
      "outputs": [
        {
          "output_type": "stream",
          "name": "stdout",
          "text": [
            "tensor([[-1.5607,  1.6123],\n",
            "        [ 4.1692, -3.3464]], grad_fn=<AddmmBackward0>)\n"
          ]
        }
      ],
      "source": [
        "# Those are not probabilities but logits, the raw, unnormalized scores outputted by the last layer of the model.\n",
        "print(outputs.logits)"
      ]
    },
    {
      "cell_type": "code",
      "execution_count": 12,
      "metadata": {
        "id": "p630vELk8J2c",
        "outputId": "eb2e46b9-e5a7-4343-d1b7-72f3ce7a8c64",
        "colab": {
          "base_uri": "https://localhost:8080/"
        }
      },
      "outputs": [
        {
          "output_type": "stream",
          "name": "stdout",
          "text": [
            "tensor([[4.0195e-02, 9.5980e-01],\n",
            "        [9.9946e-01, 5.4418e-04]], grad_fn=<SoftmaxBackward0>)\n"
          ]
        }
      ],
      "source": [
        "import torch\n",
        "\n",
        "predictions = torch.nn.functional.softmax(outputs.logits, dim=-1)\n",
        "print(predictions)"
      ]
    },
    {
      "cell_type": "code",
      "execution_count": 13,
      "metadata": {
        "id": "eqLil2_M8J2c",
        "outputId": "6d51e516-7d10-459f-d2a3-b4a39599daf6",
        "colab": {
          "base_uri": "https://localhost:8080/"
        }
      },
      "outputs": [
        {
          "output_type": "execute_result",
          "data": {
            "text/plain": [
              "{0: 'NEGATIVE', 1: 'POSITIVE'}"
            ]
          },
          "metadata": {},
          "execution_count": 13
        }
      ],
      "source": [
        "model.config.id2label"
      ]
    },
    {
      "cell_type": "code",
      "source": [],
      "metadata": {
        "id": "Huq6j9dyAVAw"
      },
      "execution_count": null,
      "outputs": []
    }
  ],
  "metadata": {
    "colab": {
      "provenance": []
    },
    "language_info": {
      "name": "python"
    },
    "kernelspec": {
      "name": "python3",
      "display_name": "Python 3"
    },
    "widgets": {
      "application/vnd.jupyter.widget-state+json": {
        "7800be93816b4aeba8d2d805a2c370c7": {
          "model_module": "@jupyter-widgets/controls",
          "model_name": "HBoxModel",
          "model_module_version": "1.5.0",
          "state": {
            "_dom_classes": [],
            "_model_module": "@jupyter-widgets/controls",
            "_model_module_version": "1.5.0",
            "_model_name": "HBoxModel",
            "_view_count": null,
            "_view_module": "@jupyter-widgets/controls",
            "_view_module_version": "1.5.0",
            "_view_name": "HBoxView",
            "box_style": "",
            "children": [
              "IPY_MODEL_69a72227e58c49d8aaa57166bda380b0",
              "IPY_MODEL_e347850479b448d9b323dabbe8fb424b",
              "IPY_MODEL_ff1ce895ad404a3b9e67179bdbcd6df8"
            ],
            "layout": "IPY_MODEL_f2651568e6ce435ebbfa2067a124f72a"
          }
        },
        "69a72227e58c49d8aaa57166bda380b0": {
          "model_module": "@jupyter-widgets/controls",
          "model_name": "HTMLModel",
          "model_module_version": "1.5.0",
          "state": {
            "_dom_classes": [],
            "_model_module": "@jupyter-widgets/controls",
            "_model_module_version": "1.5.0",
            "_model_name": "HTMLModel",
            "_view_count": null,
            "_view_module": "@jupyter-widgets/controls",
            "_view_module_version": "1.5.0",
            "_view_name": "HTMLView",
            "description": "",
            "description_tooltip": null,
            "layout": "IPY_MODEL_6607f506a49441f2970bd5a9e2b95a20",
            "placeholder": "​",
            "style": "IPY_MODEL_afb394e49e654c7f8130f4121194ea75",
            "value": "Downloading (…)lve/main/config.json: 100%"
          }
        },
        "e347850479b448d9b323dabbe8fb424b": {
          "model_module": "@jupyter-widgets/controls",
          "model_name": "FloatProgressModel",
          "model_module_version": "1.5.0",
          "state": {
            "_dom_classes": [],
            "_model_module": "@jupyter-widgets/controls",
            "_model_module_version": "1.5.0",
            "_model_name": "FloatProgressModel",
            "_view_count": null,
            "_view_module": "@jupyter-widgets/controls",
            "_view_module_version": "1.5.0",
            "_view_name": "ProgressView",
            "bar_style": "success",
            "description": "",
            "description_tooltip": null,
            "layout": "IPY_MODEL_5d07b5a5af834ee9b40e8e5d1403364a",
            "max": 629,
            "min": 0,
            "orientation": "horizontal",
            "style": "IPY_MODEL_d9a4c758c06d4cd0ba7fd3468878e50a",
            "value": 629
          }
        },
        "ff1ce895ad404a3b9e67179bdbcd6df8": {
          "model_module": "@jupyter-widgets/controls",
          "model_name": "HTMLModel",
          "model_module_version": "1.5.0",
          "state": {
            "_dom_classes": [],
            "_model_module": "@jupyter-widgets/controls",
            "_model_module_version": "1.5.0",
            "_model_name": "HTMLModel",
            "_view_count": null,
            "_view_module": "@jupyter-widgets/controls",
            "_view_module_version": "1.5.0",
            "_view_name": "HTMLView",
            "description": "",
            "description_tooltip": null,
            "layout": "IPY_MODEL_6d49ba6facd546c6891a146c4bace891",
            "placeholder": "​",
            "style": "IPY_MODEL_11305a70221c47e7b350ab1493b21152",
            "value": " 629/629 [00:00&lt;00:00, 22.7kB/s]"
          }
        },
        "f2651568e6ce435ebbfa2067a124f72a": {
          "model_module": "@jupyter-widgets/base",
          "model_name": "LayoutModel",
          "model_module_version": "1.2.0",
          "state": {
            "_model_module": "@jupyter-widgets/base",
            "_model_module_version": "1.2.0",
            "_model_name": "LayoutModel",
            "_view_count": null,
            "_view_module": "@jupyter-widgets/base",
            "_view_module_version": "1.2.0",
            "_view_name": "LayoutView",
            "align_content": null,
            "align_items": null,
            "align_self": null,
            "border": null,
            "bottom": null,
            "display": null,
            "flex": null,
            "flex_flow": null,
            "grid_area": null,
            "grid_auto_columns": null,
            "grid_auto_flow": null,
            "grid_auto_rows": null,
            "grid_column": null,
            "grid_gap": null,
            "grid_row": null,
            "grid_template_areas": null,
            "grid_template_columns": null,
            "grid_template_rows": null,
            "height": null,
            "justify_content": null,
            "justify_items": null,
            "left": null,
            "margin": null,
            "max_height": null,
            "max_width": null,
            "min_height": null,
            "min_width": null,
            "object_fit": null,
            "object_position": null,
            "order": null,
            "overflow": null,
            "overflow_x": null,
            "overflow_y": null,
            "padding": null,
            "right": null,
            "top": null,
            "visibility": null,
            "width": null
          }
        },
        "6607f506a49441f2970bd5a9e2b95a20": {
          "model_module": "@jupyter-widgets/base",
          "model_name": "LayoutModel",
          "model_module_version": "1.2.0",
          "state": {
            "_model_module": "@jupyter-widgets/base",
            "_model_module_version": "1.2.0",
            "_model_name": "LayoutModel",
            "_view_count": null,
            "_view_module": "@jupyter-widgets/base",
            "_view_module_version": "1.2.0",
            "_view_name": "LayoutView",
            "align_content": null,
            "align_items": null,
            "align_self": null,
            "border": null,
            "bottom": null,
            "display": null,
            "flex": null,
            "flex_flow": null,
            "grid_area": null,
            "grid_auto_columns": null,
            "grid_auto_flow": null,
            "grid_auto_rows": null,
            "grid_column": null,
            "grid_gap": null,
            "grid_row": null,
            "grid_template_areas": null,
            "grid_template_columns": null,
            "grid_template_rows": null,
            "height": null,
            "justify_content": null,
            "justify_items": null,
            "left": null,
            "margin": null,
            "max_height": null,
            "max_width": null,
            "min_height": null,
            "min_width": null,
            "object_fit": null,
            "object_position": null,
            "order": null,
            "overflow": null,
            "overflow_x": null,
            "overflow_y": null,
            "padding": null,
            "right": null,
            "top": null,
            "visibility": null,
            "width": null
          }
        },
        "afb394e49e654c7f8130f4121194ea75": {
          "model_module": "@jupyter-widgets/controls",
          "model_name": "DescriptionStyleModel",
          "model_module_version": "1.5.0",
          "state": {
            "_model_module": "@jupyter-widgets/controls",
            "_model_module_version": "1.5.0",
            "_model_name": "DescriptionStyleModel",
            "_view_count": null,
            "_view_module": "@jupyter-widgets/base",
            "_view_module_version": "1.2.0",
            "_view_name": "StyleView",
            "description_width": ""
          }
        },
        "5d07b5a5af834ee9b40e8e5d1403364a": {
          "model_module": "@jupyter-widgets/base",
          "model_name": "LayoutModel",
          "model_module_version": "1.2.0",
          "state": {
            "_model_module": "@jupyter-widgets/base",
            "_model_module_version": "1.2.0",
            "_model_name": "LayoutModel",
            "_view_count": null,
            "_view_module": "@jupyter-widgets/base",
            "_view_module_version": "1.2.0",
            "_view_name": "LayoutView",
            "align_content": null,
            "align_items": null,
            "align_self": null,
            "border": null,
            "bottom": null,
            "display": null,
            "flex": null,
            "flex_flow": null,
            "grid_area": null,
            "grid_auto_columns": null,
            "grid_auto_flow": null,
            "grid_auto_rows": null,
            "grid_column": null,
            "grid_gap": null,
            "grid_row": null,
            "grid_template_areas": null,
            "grid_template_columns": null,
            "grid_template_rows": null,
            "height": null,
            "justify_content": null,
            "justify_items": null,
            "left": null,
            "margin": null,
            "max_height": null,
            "max_width": null,
            "min_height": null,
            "min_width": null,
            "object_fit": null,
            "object_position": null,
            "order": null,
            "overflow": null,
            "overflow_x": null,
            "overflow_y": null,
            "padding": null,
            "right": null,
            "top": null,
            "visibility": null,
            "width": null
          }
        },
        "d9a4c758c06d4cd0ba7fd3468878e50a": {
          "model_module": "@jupyter-widgets/controls",
          "model_name": "ProgressStyleModel",
          "model_module_version": "1.5.0",
          "state": {
            "_model_module": "@jupyter-widgets/controls",
            "_model_module_version": "1.5.0",
            "_model_name": "ProgressStyleModel",
            "_view_count": null,
            "_view_module": "@jupyter-widgets/base",
            "_view_module_version": "1.2.0",
            "_view_name": "StyleView",
            "bar_color": null,
            "description_width": ""
          }
        },
        "6d49ba6facd546c6891a146c4bace891": {
          "model_module": "@jupyter-widgets/base",
          "model_name": "LayoutModel",
          "model_module_version": "1.2.0",
          "state": {
            "_model_module": "@jupyter-widgets/base",
            "_model_module_version": "1.2.0",
            "_model_name": "LayoutModel",
            "_view_count": null,
            "_view_module": "@jupyter-widgets/base",
            "_view_module_version": "1.2.0",
            "_view_name": "LayoutView",
            "align_content": null,
            "align_items": null,
            "align_self": null,
            "border": null,
            "bottom": null,
            "display": null,
            "flex": null,
            "flex_flow": null,
            "grid_area": null,
            "grid_auto_columns": null,
            "grid_auto_flow": null,
            "grid_auto_rows": null,
            "grid_column": null,
            "grid_gap": null,
            "grid_row": null,
            "grid_template_areas": null,
            "grid_template_columns": null,
            "grid_template_rows": null,
            "height": null,
            "justify_content": null,
            "justify_items": null,
            "left": null,
            "margin": null,
            "max_height": null,
            "max_width": null,
            "min_height": null,
            "min_width": null,
            "object_fit": null,
            "object_position": null,
            "order": null,
            "overflow": null,
            "overflow_x": null,
            "overflow_y": null,
            "padding": null,
            "right": null,
            "top": null,
            "visibility": null,
            "width": null
          }
        },
        "11305a70221c47e7b350ab1493b21152": {
          "model_module": "@jupyter-widgets/controls",
          "model_name": "DescriptionStyleModel",
          "model_module_version": "1.5.0",
          "state": {
            "_model_module": "@jupyter-widgets/controls",
            "_model_module_version": "1.5.0",
            "_model_name": "DescriptionStyleModel",
            "_view_count": null,
            "_view_module": "@jupyter-widgets/base",
            "_view_module_version": "1.2.0",
            "_view_name": "StyleView",
            "description_width": ""
          }
        },
        "a6daa954deb9484e9b78f9a29113d329": {
          "model_module": "@jupyter-widgets/controls",
          "model_name": "HBoxModel",
          "model_module_version": "1.5.0",
          "state": {
            "_dom_classes": [],
            "_model_module": "@jupyter-widgets/controls",
            "_model_module_version": "1.5.0",
            "_model_name": "HBoxModel",
            "_view_count": null,
            "_view_module": "@jupyter-widgets/controls",
            "_view_module_version": "1.5.0",
            "_view_name": "HBoxView",
            "box_style": "",
            "children": [
              "IPY_MODEL_7a3a20274d1f42b4831431150b4d3b44",
              "IPY_MODEL_bb6edd2afc6d48498756a08bb653f620",
              "IPY_MODEL_fcf219a466f049f19cf0fb6d05a3dabb"
            ],
            "layout": "IPY_MODEL_b7a4cd86e12f4eefb0ed266681d55789"
          }
        },
        "7a3a20274d1f42b4831431150b4d3b44": {
          "model_module": "@jupyter-widgets/controls",
          "model_name": "HTMLModel",
          "model_module_version": "1.5.0",
          "state": {
            "_dom_classes": [],
            "_model_module": "@jupyter-widgets/controls",
            "_model_module_version": "1.5.0",
            "_model_name": "HTMLModel",
            "_view_count": null,
            "_view_module": "@jupyter-widgets/controls",
            "_view_module_version": "1.5.0",
            "_view_name": "HTMLView",
            "description": "",
            "description_tooltip": null,
            "layout": "IPY_MODEL_712c0756920e4b57b6d22d0b87d42789",
            "placeholder": "​",
            "style": "IPY_MODEL_0fa5a8274ef14a9fb2fb76dcd11febcb",
            "value": "Downloading model.safetensors: 100%"
          }
        },
        "bb6edd2afc6d48498756a08bb653f620": {
          "model_module": "@jupyter-widgets/controls",
          "model_name": "FloatProgressModel",
          "model_module_version": "1.5.0",
          "state": {
            "_dom_classes": [],
            "_model_module": "@jupyter-widgets/controls",
            "_model_module_version": "1.5.0",
            "_model_name": "FloatProgressModel",
            "_view_count": null,
            "_view_module": "@jupyter-widgets/controls",
            "_view_module_version": "1.5.0",
            "_view_name": "ProgressView",
            "bar_style": "success",
            "description": "",
            "description_tooltip": null,
            "layout": "IPY_MODEL_dd028c0a13ef408bb08878378d34078c",
            "max": 267832558,
            "min": 0,
            "orientation": "horizontal",
            "style": "IPY_MODEL_0afbda844fce45c0acfbd907d9873efd",
            "value": 267832558
          }
        },
        "fcf219a466f049f19cf0fb6d05a3dabb": {
          "model_module": "@jupyter-widgets/controls",
          "model_name": "HTMLModel",
          "model_module_version": "1.5.0",
          "state": {
            "_dom_classes": [],
            "_model_module": "@jupyter-widgets/controls",
            "_model_module_version": "1.5.0",
            "_model_name": "HTMLModel",
            "_view_count": null,
            "_view_module": "@jupyter-widgets/controls",
            "_view_module_version": "1.5.0",
            "_view_name": "HTMLView",
            "description": "",
            "description_tooltip": null,
            "layout": "IPY_MODEL_4e267d89854e46c98e597d88bf75bb5e",
            "placeholder": "​",
            "style": "IPY_MODEL_f961865dba8f4fad849324425e944577",
            "value": " 268M/268M [00:04&lt;00:00, 61.9MB/s]"
          }
        },
        "b7a4cd86e12f4eefb0ed266681d55789": {
          "model_module": "@jupyter-widgets/base",
          "model_name": "LayoutModel",
          "model_module_version": "1.2.0",
          "state": {
            "_model_module": "@jupyter-widgets/base",
            "_model_module_version": "1.2.0",
            "_model_name": "LayoutModel",
            "_view_count": null,
            "_view_module": "@jupyter-widgets/base",
            "_view_module_version": "1.2.0",
            "_view_name": "LayoutView",
            "align_content": null,
            "align_items": null,
            "align_self": null,
            "border": null,
            "bottom": null,
            "display": null,
            "flex": null,
            "flex_flow": null,
            "grid_area": null,
            "grid_auto_columns": null,
            "grid_auto_flow": null,
            "grid_auto_rows": null,
            "grid_column": null,
            "grid_gap": null,
            "grid_row": null,
            "grid_template_areas": null,
            "grid_template_columns": null,
            "grid_template_rows": null,
            "height": null,
            "justify_content": null,
            "justify_items": null,
            "left": null,
            "margin": null,
            "max_height": null,
            "max_width": null,
            "min_height": null,
            "min_width": null,
            "object_fit": null,
            "object_position": null,
            "order": null,
            "overflow": null,
            "overflow_x": null,
            "overflow_y": null,
            "padding": null,
            "right": null,
            "top": null,
            "visibility": null,
            "width": null
          }
        },
        "712c0756920e4b57b6d22d0b87d42789": {
          "model_module": "@jupyter-widgets/base",
          "model_name": "LayoutModel",
          "model_module_version": "1.2.0",
          "state": {
            "_model_module": "@jupyter-widgets/base",
            "_model_module_version": "1.2.0",
            "_model_name": "LayoutModel",
            "_view_count": null,
            "_view_module": "@jupyter-widgets/base",
            "_view_module_version": "1.2.0",
            "_view_name": "LayoutView",
            "align_content": null,
            "align_items": null,
            "align_self": null,
            "border": null,
            "bottom": null,
            "display": null,
            "flex": null,
            "flex_flow": null,
            "grid_area": null,
            "grid_auto_columns": null,
            "grid_auto_flow": null,
            "grid_auto_rows": null,
            "grid_column": null,
            "grid_gap": null,
            "grid_row": null,
            "grid_template_areas": null,
            "grid_template_columns": null,
            "grid_template_rows": null,
            "height": null,
            "justify_content": null,
            "justify_items": null,
            "left": null,
            "margin": null,
            "max_height": null,
            "max_width": null,
            "min_height": null,
            "min_width": null,
            "object_fit": null,
            "object_position": null,
            "order": null,
            "overflow": null,
            "overflow_x": null,
            "overflow_y": null,
            "padding": null,
            "right": null,
            "top": null,
            "visibility": null,
            "width": null
          }
        },
        "0fa5a8274ef14a9fb2fb76dcd11febcb": {
          "model_module": "@jupyter-widgets/controls",
          "model_name": "DescriptionStyleModel",
          "model_module_version": "1.5.0",
          "state": {
            "_model_module": "@jupyter-widgets/controls",
            "_model_module_version": "1.5.0",
            "_model_name": "DescriptionStyleModel",
            "_view_count": null,
            "_view_module": "@jupyter-widgets/base",
            "_view_module_version": "1.2.0",
            "_view_name": "StyleView",
            "description_width": ""
          }
        },
        "dd028c0a13ef408bb08878378d34078c": {
          "model_module": "@jupyter-widgets/base",
          "model_name": "LayoutModel",
          "model_module_version": "1.2.0",
          "state": {
            "_model_module": "@jupyter-widgets/base",
            "_model_module_version": "1.2.0",
            "_model_name": "LayoutModel",
            "_view_count": null,
            "_view_module": "@jupyter-widgets/base",
            "_view_module_version": "1.2.0",
            "_view_name": "LayoutView",
            "align_content": null,
            "align_items": null,
            "align_self": null,
            "border": null,
            "bottom": null,
            "display": null,
            "flex": null,
            "flex_flow": null,
            "grid_area": null,
            "grid_auto_columns": null,
            "grid_auto_flow": null,
            "grid_auto_rows": null,
            "grid_column": null,
            "grid_gap": null,
            "grid_row": null,
            "grid_template_areas": null,
            "grid_template_columns": null,
            "grid_template_rows": null,
            "height": null,
            "justify_content": null,
            "justify_items": null,
            "left": null,
            "margin": null,
            "max_height": null,
            "max_width": null,
            "min_height": null,
            "min_width": null,
            "object_fit": null,
            "object_position": null,
            "order": null,
            "overflow": null,
            "overflow_x": null,
            "overflow_y": null,
            "padding": null,
            "right": null,
            "top": null,
            "visibility": null,
            "width": null
          }
        },
        "0afbda844fce45c0acfbd907d9873efd": {
          "model_module": "@jupyter-widgets/controls",
          "model_name": "ProgressStyleModel",
          "model_module_version": "1.5.0",
          "state": {
            "_model_module": "@jupyter-widgets/controls",
            "_model_module_version": "1.5.0",
            "_model_name": "ProgressStyleModel",
            "_view_count": null,
            "_view_module": "@jupyter-widgets/base",
            "_view_module_version": "1.2.0",
            "_view_name": "StyleView",
            "bar_color": null,
            "description_width": ""
          }
        },
        "4e267d89854e46c98e597d88bf75bb5e": {
          "model_module": "@jupyter-widgets/base",
          "model_name": "LayoutModel",
          "model_module_version": "1.2.0",
          "state": {
            "_model_module": "@jupyter-widgets/base",
            "_model_module_version": "1.2.0",
            "_model_name": "LayoutModel",
            "_view_count": null,
            "_view_module": "@jupyter-widgets/base",
            "_view_module_version": "1.2.0",
            "_view_name": "LayoutView",
            "align_content": null,
            "align_items": null,
            "align_self": null,
            "border": null,
            "bottom": null,
            "display": null,
            "flex": null,
            "flex_flow": null,
            "grid_area": null,
            "grid_auto_columns": null,
            "grid_auto_flow": null,
            "grid_auto_rows": null,
            "grid_column": null,
            "grid_gap": null,
            "grid_row": null,
            "grid_template_areas": null,
            "grid_template_columns": null,
            "grid_template_rows": null,
            "height": null,
            "justify_content": null,
            "justify_items": null,
            "left": null,
            "margin": null,
            "max_height": null,
            "max_width": null,
            "min_height": null,
            "min_width": null,
            "object_fit": null,
            "object_position": null,
            "order": null,
            "overflow": null,
            "overflow_x": null,
            "overflow_y": null,
            "padding": null,
            "right": null,
            "top": null,
            "visibility": null,
            "width": null
          }
        },
        "f961865dba8f4fad849324425e944577": {
          "model_module": "@jupyter-widgets/controls",
          "model_name": "DescriptionStyleModel",
          "model_module_version": "1.5.0",
          "state": {
            "_model_module": "@jupyter-widgets/controls",
            "_model_module_version": "1.5.0",
            "_model_name": "DescriptionStyleModel",
            "_view_count": null,
            "_view_module": "@jupyter-widgets/base",
            "_view_module_version": "1.2.0",
            "_view_name": "StyleView",
            "description_width": ""
          }
        },
        "1a996edeb9584715866f383d9eeadabb": {
          "model_module": "@jupyter-widgets/controls",
          "model_name": "HBoxModel",
          "model_module_version": "1.5.0",
          "state": {
            "_dom_classes": [],
            "_model_module": "@jupyter-widgets/controls",
            "_model_module_version": "1.5.0",
            "_model_name": "HBoxModel",
            "_view_count": null,
            "_view_module": "@jupyter-widgets/controls",
            "_view_module_version": "1.5.0",
            "_view_name": "HBoxView",
            "box_style": "",
            "children": [
              "IPY_MODEL_f19b981d7a974b33b34c3e4b9815223f",
              "IPY_MODEL_3be793d6a830457b8f6a2f36163b1f88",
              "IPY_MODEL_bd3e8ffade674e58b4e3193a20c5aa6b"
            ],
            "layout": "IPY_MODEL_05d5553e54b4466e851579aded08abe0"
          }
        },
        "f19b981d7a974b33b34c3e4b9815223f": {
          "model_module": "@jupyter-widgets/controls",
          "model_name": "HTMLModel",
          "model_module_version": "1.5.0",
          "state": {
            "_dom_classes": [],
            "_model_module": "@jupyter-widgets/controls",
            "_model_module_version": "1.5.0",
            "_model_name": "HTMLModel",
            "_view_count": null,
            "_view_module": "@jupyter-widgets/controls",
            "_view_module_version": "1.5.0",
            "_view_name": "HTMLView",
            "description": "",
            "description_tooltip": null,
            "layout": "IPY_MODEL_3e2fcfaeb34e41f38532e4b195bc3f5c",
            "placeholder": "​",
            "style": "IPY_MODEL_db8766cb95db45c0ad2945387f9d549a",
            "value": "Downloading (…)okenizer_config.json: 100%"
          }
        },
        "3be793d6a830457b8f6a2f36163b1f88": {
          "model_module": "@jupyter-widgets/controls",
          "model_name": "FloatProgressModel",
          "model_module_version": "1.5.0",
          "state": {
            "_dom_classes": [],
            "_model_module": "@jupyter-widgets/controls",
            "_model_module_version": "1.5.0",
            "_model_name": "FloatProgressModel",
            "_view_count": null,
            "_view_module": "@jupyter-widgets/controls",
            "_view_module_version": "1.5.0",
            "_view_name": "ProgressView",
            "bar_style": "success",
            "description": "",
            "description_tooltip": null,
            "layout": "IPY_MODEL_d90cbc7a39f34c0ca5ba4ba8c44d3507",
            "max": 48,
            "min": 0,
            "orientation": "horizontal",
            "style": "IPY_MODEL_19f743638ec24d43893a1a9ff822cb02",
            "value": 48
          }
        },
        "bd3e8ffade674e58b4e3193a20c5aa6b": {
          "model_module": "@jupyter-widgets/controls",
          "model_name": "HTMLModel",
          "model_module_version": "1.5.0",
          "state": {
            "_dom_classes": [],
            "_model_module": "@jupyter-widgets/controls",
            "_model_module_version": "1.5.0",
            "_model_name": "HTMLModel",
            "_view_count": null,
            "_view_module": "@jupyter-widgets/controls",
            "_view_module_version": "1.5.0",
            "_view_name": "HTMLView",
            "description": "",
            "description_tooltip": null,
            "layout": "IPY_MODEL_f6e3084d352e4a07be6da7cb23975bda",
            "placeholder": "​",
            "style": "IPY_MODEL_33d0478944f045499e383d13aae528a8",
            "value": " 48.0/48.0 [00:00&lt;00:00, 990B/s]"
          }
        },
        "05d5553e54b4466e851579aded08abe0": {
          "model_module": "@jupyter-widgets/base",
          "model_name": "LayoutModel",
          "model_module_version": "1.2.0",
          "state": {
            "_model_module": "@jupyter-widgets/base",
            "_model_module_version": "1.2.0",
            "_model_name": "LayoutModel",
            "_view_count": null,
            "_view_module": "@jupyter-widgets/base",
            "_view_module_version": "1.2.0",
            "_view_name": "LayoutView",
            "align_content": null,
            "align_items": null,
            "align_self": null,
            "border": null,
            "bottom": null,
            "display": null,
            "flex": null,
            "flex_flow": null,
            "grid_area": null,
            "grid_auto_columns": null,
            "grid_auto_flow": null,
            "grid_auto_rows": null,
            "grid_column": null,
            "grid_gap": null,
            "grid_row": null,
            "grid_template_areas": null,
            "grid_template_columns": null,
            "grid_template_rows": null,
            "height": null,
            "justify_content": null,
            "justify_items": null,
            "left": null,
            "margin": null,
            "max_height": null,
            "max_width": null,
            "min_height": null,
            "min_width": null,
            "object_fit": null,
            "object_position": null,
            "order": null,
            "overflow": null,
            "overflow_x": null,
            "overflow_y": null,
            "padding": null,
            "right": null,
            "top": null,
            "visibility": null,
            "width": null
          }
        },
        "3e2fcfaeb34e41f38532e4b195bc3f5c": {
          "model_module": "@jupyter-widgets/base",
          "model_name": "LayoutModel",
          "model_module_version": "1.2.0",
          "state": {
            "_model_module": "@jupyter-widgets/base",
            "_model_module_version": "1.2.0",
            "_model_name": "LayoutModel",
            "_view_count": null,
            "_view_module": "@jupyter-widgets/base",
            "_view_module_version": "1.2.0",
            "_view_name": "LayoutView",
            "align_content": null,
            "align_items": null,
            "align_self": null,
            "border": null,
            "bottom": null,
            "display": null,
            "flex": null,
            "flex_flow": null,
            "grid_area": null,
            "grid_auto_columns": null,
            "grid_auto_flow": null,
            "grid_auto_rows": null,
            "grid_column": null,
            "grid_gap": null,
            "grid_row": null,
            "grid_template_areas": null,
            "grid_template_columns": null,
            "grid_template_rows": null,
            "height": null,
            "justify_content": null,
            "justify_items": null,
            "left": null,
            "margin": null,
            "max_height": null,
            "max_width": null,
            "min_height": null,
            "min_width": null,
            "object_fit": null,
            "object_position": null,
            "order": null,
            "overflow": null,
            "overflow_x": null,
            "overflow_y": null,
            "padding": null,
            "right": null,
            "top": null,
            "visibility": null,
            "width": null
          }
        },
        "db8766cb95db45c0ad2945387f9d549a": {
          "model_module": "@jupyter-widgets/controls",
          "model_name": "DescriptionStyleModel",
          "model_module_version": "1.5.0",
          "state": {
            "_model_module": "@jupyter-widgets/controls",
            "_model_module_version": "1.5.0",
            "_model_name": "DescriptionStyleModel",
            "_view_count": null,
            "_view_module": "@jupyter-widgets/base",
            "_view_module_version": "1.2.0",
            "_view_name": "StyleView",
            "description_width": ""
          }
        },
        "d90cbc7a39f34c0ca5ba4ba8c44d3507": {
          "model_module": "@jupyter-widgets/base",
          "model_name": "LayoutModel",
          "model_module_version": "1.2.0",
          "state": {
            "_model_module": "@jupyter-widgets/base",
            "_model_module_version": "1.2.0",
            "_model_name": "LayoutModel",
            "_view_count": null,
            "_view_module": "@jupyter-widgets/base",
            "_view_module_version": "1.2.0",
            "_view_name": "LayoutView",
            "align_content": null,
            "align_items": null,
            "align_self": null,
            "border": null,
            "bottom": null,
            "display": null,
            "flex": null,
            "flex_flow": null,
            "grid_area": null,
            "grid_auto_columns": null,
            "grid_auto_flow": null,
            "grid_auto_rows": null,
            "grid_column": null,
            "grid_gap": null,
            "grid_row": null,
            "grid_template_areas": null,
            "grid_template_columns": null,
            "grid_template_rows": null,
            "height": null,
            "justify_content": null,
            "justify_items": null,
            "left": null,
            "margin": null,
            "max_height": null,
            "max_width": null,
            "min_height": null,
            "min_width": null,
            "object_fit": null,
            "object_position": null,
            "order": null,
            "overflow": null,
            "overflow_x": null,
            "overflow_y": null,
            "padding": null,
            "right": null,
            "top": null,
            "visibility": null,
            "width": null
          }
        },
        "19f743638ec24d43893a1a9ff822cb02": {
          "model_module": "@jupyter-widgets/controls",
          "model_name": "ProgressStyleModel",
          "model_module_version": "1.5.0",
          "state": {
            "_model_module": "@jupyter-widgets/controls",
            "_model_module_version": "1.5.0",
            "_model_name": "ProgressStyleModel",
            "_view_count": null,
            "_view_module": "@jupyter-widgets/base",
            "_view_module_version": "1.2.0",
            "_view_name": "StyleView",
            "bar_color": null,
            "description_width": ""
          }
        },
        "f6e3084d352e4a07be6da7cb23975bda": {
          "model_module": "@jupyter-widgets/base",
          "model_name": "LayoutModel",
          "model_module_version": "1.2.0",
          "state": {
            "_model_module": "@jupyter-widgets/base",
            "_model_module_version": "1.2.0",
            "_model_name": "LayoutModel",
            "_view_count": null,
            "_view_module": "@jupyter-widgets/base",
            "_view_module_version": "1.2.0",
            "_view_name": "LayoutView",
            "align_content": null,
            "align_items": null,
            "align_self": null,
            "border": null,
            "bottom": null,
            "display": null,
            "flex": null,
            "flex_flow": null,
            "grid_area": null,
            "grid_auto_columns": null,
            "grid_auto_flow": null,
            "grid_auto_rows": null,
            "grid_column": null,
            "grid_gap": null,
            "grid_row": null,
            "grid_template_areas": null,
            "grid_template_columns": null,
            "grid_template_rows": null,
            "height": null,
            "justify_content": null,
            "justify_items": null,
            "left": null,
            "margin": null,
            "max_height": null,
            "max_width": null,
            "min_height": null,
            "min_width": null,
            "object_fit": null,
            "object_position": null,
            "order": null,
            "overflow": null,
            "overflow_x": null,
            "overflow_y": null,
            "padding": null,
            "right": null,
            "top": null,
            "visibility": null,
            "width": null
          }
        },
        "33d0478944f045499e383d13aae528a8": {
          "model_module": "@jupyter-widgets/controls",
          "model_name": "DescriptionStyleModel",
          "model_module_version": "1.5.0",
          "state": {
            "_model_module": "@jupyter-widgets/controls",
            "_model_module_version": "1.5.0",
            "_model_name": "DescriptionStyleModel",
            "_view_count": null,
            "_view_module": "@jupyter-widgets/base",
            "_view_module_version": "1.2.0",
            "_view_name": "StyleView",
            "description_width": ""
          }
        },
        "9f1484078dc04fd895b290b3c5629234": {
          "model_module": "@jupyter-widgets/controls",
          "model_name": "HBoxModel",
          "model_module_version": "1.5.0",
          "state": {
            "_dom_classes": [],
            "_model_module": "@jupyter-widgets/controls",
            "_model_module_version": "1.5.0",
            "_model_name": "HBoxModel",
            "_view_count": null,
            "_view_module": "@jupyter-widgets/controls",
            "_view_module_version": "1.5.0",
            "_view_name": "HBoxView",
            "box_style": "",
            "children": [
              "IPY_MODEL_00af5a575bec4ea7aa1265c566bed37f",
              "IPY_MODEL_a2a6c8a8cdeb417393c0c28f2cf87015",
              "IPY_MODEL_a35fc337b4ac434f9f9594c51a94c0a5"
            ],
            "layout": "IPY_MODEL_d0312e82d6934c2196b014bccb07dd35"
          }
        },
        "00af5a575bec4ea7aa1265c566bed37f": {
          "model_module": "@jupyter-widgets/controls",
          "model_name": "HTMLModel",
          "model_module_version": "1.5.0",
          "state": {
            "_dom_classes": [],
            "_model_module": "@jupyter-widgets/controls",
            "_model_module_version": "1.5.0",
            "_model_name": "HTMLModel",
            "_view_count": null,
            "_view_module": "@jupyter-widgets/controls",
            "_view_module_version": "1.5.0",
            "_view_name": "HTMLView",
            "description": "",
            "description_tooltip": null,
            "layout": "IPY_MODEL_8269fbf4541249a1b3e975f98248fe6e",
            "placeholder": "​",
            "style": "IPY_MODEL_f80f95bb7b9840b38a50bc22c51b2c15",
            "value": "Downloading (…)solve/main/vocab.txt: 100%"
          }
        },
        "a2a6c8a8cdeb417393c0c28f2cf87015": {
          "model_module": "@jupyter-widgets/controls",
          "model_name": "FloatProgressModel",
          "model_module_version": "1.5.0",
          "state": {
            "_dom_classes": [],
            "_model_module": "@jupyter-widgets/controls",
            "_model_module_version": "1.5.0",
            "_model_name": "FloatProgressModel",
            "_view_count": null,
            "_view_module": "@jupyter-widgets/controls",
            "_view_module_version": "1.5.0",
            "_view_name": "ProgressView",
            "bar_style": "success",
            "description": "",
            "description_tooltip": null,
            "layout": "IPY_MODEL_0be9f0ae09504554be93bfbc0ca11033",
            "max": 231508,
            "min": 0,
            "orientation": "horizontal",
            "style": "IPY_MODEL_864b58ab62c841d084d57c93fb5867e2",
            "value": 231508
          }
        },
        "a35fc337b4ac434f9f9594c51a94c0a5": {
          "model_module": "@jupyter-widgets/controls",
          "model_name": "HTMLModel",
          "model_module_version": "1.5.0",
          "state": {
            "_dom_classes": [],
            "_model_module": "@jupyter-widgets/controls",
            "_model_module_version": "1.5.0",
            "_model_name": "HTMLModel",
            "_view_count": null,
            "_view_module": "@jupyter-widgets/controls",
            "_view_module_version": "1.5.0",
            "_view_name": "HTMLView",
            "description": "",
            "description_tooltip": null,
            "layout": "IPY_MODEL_003d472eb1674d50b72b03893ae8ac68",
            "placeholder": "​",
            "style": "IPY_MODEL_0877248cc7044149af0d15f185d7b8b1",
            "value": " 232k/232k [00:00&lt;00:00, 3.04MB/s]"
          }
        },
        "d0312e82d6934c2196b014bccb07dd35": {
          "model_module": "@jupyter-widgets/base",
          "model_name": "LayoutModel",
          "model_module_version": "1.2.0",
          "state": {
            "_model_module": "@jupyter-widgets/base",
            "_model_module_version": "1.2.0",
            "_model_name": "LayoutModel",
            "_view_count": null,
            "_view_module": "@jupyter-widgets/base",
            "_view_module_version": "1.2.0",
            "_view_name": "LayoutView",
            "align_content": null,
            "align_items": null,
            "align_self": null,
            "border": null,
            "bottom": null,
            "display": null,
            "flex": null,
            "flex_flow": null,
            "grid_area": null,
            "grid_auto_columns": null,
            "grid_auto_flow": null,
            "grid_auto_rows": null,
            "grid_column": null,
            "grid_gap": null,
            "grid_row": null,
            "grid_template_areas": null,
            "grid_template_columns": null,
            "grid_template_rows": null,
            "height": null,
            "justify_content": null,
            "justify_items": null,
            "left": null,
            "margin": null,
            "max_height": null,
            "max_width": null,
            "min_height": null,
            "min_width": null,
            "object_fit": null,
            "object_position": null,
            "order": null,
            "overflow": null,
            "overflow_x": null,
            "overflow_y": null,
            "padding": null,
            "right": null,
            "top": null,
            "visibility": null,
            "width": null
          }
        },
        "8269fbf4541249a1b3e975f98248fe6e": {
          "model_module": "@jupyter-widgets/base",
          "model_name": "LayoutModel",
          "model_module_version": "1.2.0",
          "state": {
            "_model_module": "@jupyter-widgets/base",
            "_model_module_version": "1.2.0",
            "_model_name": "LayoutModel",
            "_view_count": null,
            "_view_module": "@jupyter-widgets/base",
            "_view_module_version": "1.2.0",
            "_view_name": "LayoutView",
            "align_content": null,
            "align_items": null,
            "align_self": null,
            "border": null,
            "bottom": null,
            "display": null,
            "flex": null,
            "flex_flow": null,
            "grid_area": null,
            "grid_auto_columns": null,
            "grid_auto_flow": null,
            "grid_auto_rows": null,
            "grid_column": null,
            "grid_gap": null,
            "grid_row": null,
            "grid_template_areas": null,
            "grid_template_columns": null,
            "grid_template_rows": null,
            "height": null,
            "justify_content": null,
            "justify_items": null,
            "left": null,
            "margin": null,
            "max_height": null,
            "max_width": null,
            "min_height": null,
            "min_width": null,
            "object_fit": null,
            "object_position": null,
            "order": null,
            "overflow": null,
            "overflow_x": null,
            "overflow_y": null,
            "padding": null,
            "right": null,
            "top": null,
            "visibility": null,
            "width": null
          }
        },
        "f80f95bb7b9840b38a50bc22c51b2c15": {
          "model_module": "@jupyter-widgets/controls",
          "model_name": "DescriptionStyleModel",
          "model_module_version": "1.5.0",
          "state": {
            "_model_module": "@jupyter-widgets/controls",
            "_model_module_version": "1.5.0",
            "_model_name": "DescriptionStyleModel",
            "_view_count": null,
            "_view_module": "@jupyter-widgets/base",
            "_view_module_version": "1.2.0",
            "_view_name": "StyleView",
            "description_width": ""
          }
        },
        "0be9f0ae09504554be93bfbc0ca11033": {
          "model_module": "@jupyter-widgets/base",
          "model_name": "LayoutModel",
          "model_module_version": "1.2.0",
          "state": {
            "_model_module": "@jupyter-widgets/base",
            "_model_module_version": "1.2.0",
            "_model_name": "LayoutModel",
            "_view_count": null,
            "_view_module": "@jupyter-widgets/base",
            "_view_module_version": "1.2.0",
            "_view_name": "LayoutView",
            "align_content": null,
            "align_items": null,
            "align_self": null,
            "border": null,
            "bottom": null,
            "display": null,
            "flex": null,
            "flex_flow": null,
            "grid_area": null,
            "grid_auto_columns": null,
            "grid_auto_flow": null,
            "grid_auto_rows": null,
            "grid_column": null,
            "grid_gap": null,
            "grid_row": null,
            "grid_template_areas": null,
            "grid_template_columns": null,
            "grid_template_rows": null,
            "height": null,
            "justify_content": null,
            "justify_items": null,
            "left": null,
            "margin": null,
            "max_height": null,
            "max_width": null,
            "min_height": null,
            "min_width": null,
            "object_fit": null,
            "object_position": null,
            "order": null,
            "overflow": null,
            "overflow_x": null,
            "overflow_y": null,
            "padding": null,
            "right": null,
            "top": null,
            "visibility": null,
            "width": null
          }
        },
        "864b58ab62c841d084d57c93fb5867e2": {
          "model_module": "@jupyter-widgets/controls",
          "model_name": "ProgressStyleModel",
          "model_module_version": "1.5.0",
          "state": {
            "_model_module": "@jupyter-widgets/controls",
            "_model_module_version": "1.5.0",
            "_model_name": "ProgressStyleModel",
            "_view_count": null,
            "_view_module": "@jupyter-widgets/base",
            "_view_module_version": "1.2.0",
            "_view_name": "StyleView",
            "bar_color": null,
            "description_width": ""
          }
        },
        "003d472eb1674d50b72b03893ae8ac68": {
          "model_module": "@jupyter-widgets/base",
          "model_name": "LayoutModel",
          "model_module_version": "1.2.0",
          "state": {
            "_model_module": "@jupyter-widgets/base",
            "_model_module_version": "1.2.0",
            "_model_name": "LayoutModel",
            "_view_count": null,
            "_view_module": "@jupyter-widgets/base",
            "_view_module_version": "1.2.0",
            "_view_name": "LayoutView",
            "align_content": null,
            "align_items": null,
            "align_self": null,
            "border": null,
            "bottom": null,
            "display": null,
            "flex": null,
            "flex_flow": null,
            "grid_area": null,
            "grid_auto_columns": null,
            "grid_auto_flow": null,
            "grid_auto_rows": null,
            "grid_column": null,
            "grid_gap": null,
            "grid_row": null,
            "grid_template_areas": null,
            "grid_template_columns": null,
            "grid_template_rows": null,
            "height": null,
            "justify_content": null,
            "justify_items": null,
            "left": null,
            "margin": null,
            "max_height": null,
            "max_width": null,
            "min_height": null,
            "min_width": null,
            "object_fit": null,
            "object_position": null,
            "order": null,
            "overflow": null,
            "overflow_x": null,
            "overflow_y": null,
            "padding": null,
            "right": null,
            "top": null,
            "visibility": null,
            "width": null
          }
        },
        "0877248cc7044149af0d15f185d7b8b1": {
          "model_module": "@jupyter-widgets/controls",
          "model_name": "DescriptionStyleModel",
          "model_module_version": "1.5.0",
          "state": {
            "_model_module": "@jupyter-widgets/controls",
            "_model_module_version": "1.5.0",
            "_model_name": "DescriptionStyleModel",
            "_view_count": null,
            "_view_module": "@jupyter-widgets/base",
            "_view_module_version": "1.2.0",
            "_view_name": "StyleView",
            "description_width": ""
          }
        }
      }
    }
  },
  "nbformat": 4,
  "nbformat_minor": 0
}